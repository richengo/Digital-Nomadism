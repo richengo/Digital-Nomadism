{
 "cells": [
  {
   "cell_type": "markdown",
   "metadata": {},
   "source": [
    "# Project 3: Web APIs & Classification\n",
    "____________\n",
    "\n",
    "# Part 2 - Modelling, Evaluation, Conclusions"
   ]
  },
  {
   "cell_type": "markdown",
   "metadata": {},
   "source": [
    "### Riche Ngo, SG-DSI-18\n",
    "\n",
    "## Problem Statement\n",
    "\n",
    "To keep up with current trends, companies, especially start-ups, are more willing to employ digital nomads to be part of their workforce. However, organisations are also worried about the mental stability of their potential employees and the risk of poor work quality. As part of the data scientist team in a recruitment agency, we want to understand the demographic of digital nomads and whether there is truly a correlation between the nomadic lifestyle and people who do not have relationship. We want to develop a classification model that could identify traits between digital nomads and people who are not in a relationship using Natural Language Processing. Essentially, what we want to know is, are freedom and love mutually exclusive?"
   ]
  },
  {
   "cell_type": "markdown",
   "metadata": {},
   "source": [
    "## Executive Summary\n",
    "\n",
    "This project explores data collected from two subreddits using Reddit's API, namely '[digitalnomad](https://www.reddit.com/r/digitalnomad/)' and '[marriagefree](https://www.reddit.com/r/marriagefree/)'. We focus on analyzing the textual content posted by each Reddit user, together with the titles of the posts, using Natural Language Processing techniques.\n",
    "\n",
    "The data was found to be relatively clean since the Reddit platform enables us to scrape the data in a *.json* format. However, since we are extracting only the title and main content of each post, we had to drop many duplicates which resulted in an imbalanced number of posts between the two subreddits. The average length of posts for each subreddit was quite similar, about 115-131 words. \n",
    "\n",
    "Preprocessing was done by removing common stopwords within the `nltk` library and the remaining words were lemmatized. Looking at the top frequently occurring words in each subreddit, we found that people in 'digitalnomad' were often discussing about work and travel while people in 'marriagefree' were often discussing about relationships and life.\n",
    "\n",
    "While developing the classifier model, we built several pipelines, each containing a vectorizer and a classification model. We tuned the models' hyperparameters to obtain the best cross-validated score for each pipeline. Comparing the cross-validated scores, which give an estimate of the model's accuracy on unseen data, the best model was found to be a Multinomial Naive Bayes model. Since the hold-out method was also adopted, we could compare acuracy scores between train and test(hold-out) data, which were 0.98 and 0.97 respectively. Although it indicated slight overfitting of the data, the small difference was acceptable by our means. The high accuracy scores also suggest that digital nomads and single/unmarried people are very distinguishable.\n",
    "\n",
    "The prominent words which the Naive Bayes model used to classify the textual data into 'digitalnomad' posts are words relating to travel, countries, and accomodation while posts with words relating to relationships, family, and disharmony. Incidentally, the posts that the model misclassified under the 'digitalnomad' subreddit have words that are more related to finance while posts that are misclassified under the 'marriagefree' subreddit have words relating to family or females. We also observed that words like 'depressing' appeared over more than one post that were misclassified under the 'digitalnomal' subreddit. This may suggest some sort of correlation between distress and digital nomadism.\n",
    "\n",
    "### Contents:\n",
    "- [Modelling & Hyperparameter Tuning](#Modelling-&-Hyperparameter-Tuning)\n",
    "- [Model Selection & Evaluation](#Model-Selection-&-Evaluation)\n",
    "- [Further Exploration](#Further-Exploration)\n",
    "- [Conclusions](#Conclusions)"
   ]
  },
  {
   "cell_type": "code",
   "execution_count": 75,
   "metadata": {},
   "outputs": [],
   "source": [
    "# Import libraries\n",
    "import pandas as pd\n",
    "import numpy as np\n",
    "import matplotlib.pyplot as plt\n",
    "\n",
    "from sklearn.pipeline import Pipeline\n",
    "from sklearn.model_selection import train_test_split, GridSearchCV, cross_val_score\n",
    "from sklearn.linear_model import LogisticRegression\n",
    "from sklearn.feature_extraction.text import CountVectorizer, TfidfVectorizer\n",
    "from sklearn.metrics import confusion_matrix, plot_confusion_matrix, plot_roc_curve, precision_recall_fscore_support\n",
    "from sklearn.naive_bayes import MultinomialNB\n",
    "from sklearn.ensemble import RandomForestClassifier, AdaBoostClassifier\n",
    "from sklearn.tree import DecisionTreeClassifier\n",
    "from sklearn.svm import SVC"
   ]
  },
  {
   "cell_type": "markdown",
   "metadata": {},
   "source": [
    "### Import Data\n",
    "\n",
    "We will import the preprocessed datasets to be used for model development."
   ]
  },
  {
   "cell_type": "code",
   "execution_count": 3,
   "metadata": {},
   "outputs": [],
   "source": [
    "file_1 = '../datasets/digitalnomad_preprocessed.csv'\n",
    "file_2 = '../datasets/marriagefree_preprocessed.csv'"
   ]
  },
  {
   "cell_type": "code",
   "execution_count": 4,
   "metadata": {},
   "outputs": [],
   "source": [
    "df_1 = pd.read_csv(file_1)\n",
    "df_2 = pd.read_csv(file_2)"
   ]
  },
  {
   "cell_type": "code",
   "execution_count": 5,
   "metadata": {},
   "outputs": [
    {
     "data": {
      "text/html": [
       "<div>\n",
       "<style scoped>\n",
       "    .dataframe tbody tr th:only-of-type {\n",
       "        vertical-align: middle;\n",
       "    }\n",
       "\n",
       "    .dataframe tbody tr th {\n",
       "        vertical-align: top;\n",
       "    }\n",
       "\n",
       "    .dataframe thead th {\n",
       "        text-align: right;\n",
       "    }\n",
       "</style>\n",
       "<table border=\"1\" class=\"dataframe\">\n",
       "  <thead>\n",
       "    <tr style=\"text-align: right;\">\n",
       "      <th></th>\n",
       "      <th>posts</th>\n",
       "    </tr>\n",
       "  </thead>\n",
       "  <tbody>\n",
       "    <tr>\n",
       "      <th>0</th>\n",
       "      <td>esl training selling business going hunker mon...</td>\n",
       "    </tr>\n",
       "    <tr>\n",
       "      <th>1</th>\n",
       "      <td>work income group list comment income get feel...</td>\n",
       "    </tr>\n",
       "    <tr>\n",
       "      <th>2</th>\n",
       "      <td>waiting pandemic home country going travel soo...</td>\n",
       "    </tr>\n",
       "    <tr>\n",
       "      <th>3</th>\n",
       "      <td>designremotely world resource remote designer ...</td>\n",
       "    </tr>\n",
       "    <tr>\n",
       "      <th>4</th>\n",
       "      <td>covid affected safety crime medellin colombia ...</td>\n",
       "    </tr>\n",
       "  </tbody>\n",
       "</table>\n",
       "</div>"
      ],
      "text/plain": [
       "                                               posts\n",
       "0  esl training selling business going hunker mon...\n",
       "1  work income group list comment income get feel...\n",
       "2  waiting pandemic home country going travel soo...\n",
       "3  designremotely world resource remote designer ...\n",
       "4  covid affected safety crime medellin colombia ..."
      ]
     },
     "execution_count": 5,
     "metadata": {},
     "output_type": "execute_result"
    }
   ],
   "source": [
    "df_1.head()"
   ]
  },
  {
   "cell_type": "code",
   "execution_count": 6,
   "metadata": {},
   "outputs": [
    {
     "data": {
      "text/plain": [
       "(2464, 1)"
      ]
     },
     "execution_count": 6,
     "metadata": {},
     "output_type": "execute_result"
    }
   ],
   "source": [
    "df_1.shape"
   ]
  },
  {
   "cell_type": "code",
   "execution_count": 7,
   "metadata": {},
   "outputs": [
    {
     "data": {
      "text/html": [
       "<div>\n",
       "<style scoped>\n",
       "    .dataframe tbody tr th:only-of-type {\n",
       "        vertical-align: middle;\n",
       "    }\n",
       "\n",
       "    .dataframe tbody tr th {\n",
       "        vertical-align: top;\n",
       "    }\n",
       "\n",
       "    .dataframe thead th {\n",
       "        text-align: right;\n",
       "    }\n",
       "</style>\n",
       "<table border=\"1\" class=\"dataframe\">\n",
       "  <thead>\n",
       "    <tr style=\"text-align: right;\">\n",
       "      <th></th>\n",
       "      <th>posts</th>\n",
       "    </tr>\n",
       "  </thead>\n",
       "  <tbody>\n",
       "    <tr>\n",
       "      <th>0</th>\n",
       "      <td>true crime partly influenced decision pretty a...</td>\n",
       "    </tr>\n",
       "    <tr>\n",
       "      <th>1</th>\n",
       "      <td>kid get long time always knew wanna get cause ...</td>\n",
       "    </tr>\n",
       "    <tr>\n",
       "      <th>2</th>\n",
       "      <td>gf broke cuz breaking heart girlfriend year br...</td>\n",
       "    </tr>\n",
       "    <tr>\n",
       "      <th>3</th>\n",
       "      <td>life hack</td>\n",
       "    </tr>\n",
       "    <tr>\n",
       "      <th>4</th>\n",
       "      <td>oscar wilde quote</td>\n",
       "    </tr>\n",
       "  </tbody>\n",
       "</table>\n",
       "</div>"
      ],
      "text/plain": [
       "                                               posts\n",
       "0  true crime partly influenced decision pretty a...\n",
       "1  kid get long time always knew wanna get cause ...\n",
       "2  gf broke cuz breaking heart girlfriend year br...\n",
       "3                                          life hack\n",
       "4                                  oscar wilde quote"
      ]
     },
     "execution_count": 7,
     "metadata": {},
     "output_type": "execute_result"
    }
   ],
   "source": [
    "df_2.head()"
   ]
  },
  {
   "cell_type": "code",
   "execution_count": 8,
   "metadata": {},
   "outputs": [
    {
     "data": {
      "text/plain": [
       "(429, 1)"
      ]
     },
     "execution_count": 8,
     "metadata": {},
     "output_type": "execute_result"
    }
   ],
   "source": [
    "df_2.shape"
   ]
  },
  {
   "cell_type": "markdown",
   "metadata": {},
   "source": [
    "## Data Preparation"
   ]
  },
  {
   "cell_type": "code",
   "execution_count": 9,
   "metadata": {},
   "outputs": [
    {
     "name": "stdout",
     "output_type": "stream",
     "text": [
      "Null values in df_1:\n",
      " posts    4\n",
      "dtype: int64\n",
      "\n",
      "Null values in df_2:\n",
      " posts    0\n",
      "dtype: int64\n"
     ]
    }
   ],
   "source": [
    "# Check for null values\n",
    "print('Null values in df_1:\\n', df_1.isnull().sum())\n",
    "print()\n",
    "print('Null values in df_2:\\n', df_2.isnull().sum())"
   ]
  },
  {
   "cell_type": "markdown",
   "metadata": {},
   "source": [
    "There is a null value in df_1 which is probably due to the post being all stopwords and was replaced by a blank. We will need to drop this row."
   ]
  },
  {
   "cell_type": "code",
   "execution_count": 10,
   "metadata": {},
   "outputs": [],
   "source": [
    "# Dropping null\n",
    "df_1.dropna(inplace=True)"
   ]
  },
  {
   "cell_type": "code",
   "execution_count": 11,
   "metadata": {},
   "outputs": [],
   "source": [
    "# Set binary variables to indicate the origin of each post\n",
    "# 0 would indicate post originated from subreddit 1\n",
    "# 1 would indicate post orginated from subreddit 2\n",
    "df_1['origin_marriagefree'] = 0\n",
    "df_2['origin_marriagefree'] = 1"
   ]
  },
  {
   "cell_type": "code",
   "execution_count": 12,
   "metadata": {},
   "outputs": [
    {
     "data": {
      "text/plain": [
       "(2889, 2)"
      ]
     },
     "execution_count": 12,
     "metadata": {},
     "output_type": "execute_result"
    }
   ],
   "source": [
    "# Concatenate the two dataframes\n",
    "combined_df = pd.concat([df_1, df_2]).reset_index(drop=True)\n",
    "combined_df.shape"
   ]
  },
  {
   "cell_type": "code",
   "execution_count": 13,
   "metadata": {},
   "outputs": [
    {
     "data": {
      "text/html": [
       "<div>\n",
       "<style scoped>\n",
       "    .dataframe tbody tr th:only-of-type {\n",
       "        vertical-align: middle;\n",
       "    }\n",
       "\n",
       "    .dataframe tbody tr th {\n",
       "        vertical-align: top;\n",
       "    }\n",
       "\n",
       "    .dataframe thead th {\n",
       "        text-align: right;\n",
       "    }\n",
       "</style>\n",
       "<table border=\"1\" class=\"dataframe\">\n",
       "  <thead>\n",
       "    <tr style=\"text-align: right;\">\n",
       "      <th></th>\n",
       "      <th>posts</th>\n",
       "      <th>origin_marriagefree</th>\n",
       "    </tr>\n",
       "  </thead>\n",
       "  <tbody>\n",
       "    <tr>\n",
       "      <th>0</th>\n",
       "      <td>esl training selling business going hunker mon...</td>\n",
       "      <td>0</td>\n",
       "    </tr>\n",
       "    <tr>\n",
       "      <th>1</th>\n",
       "      <td>work income group list comment income get feel...</td>\n",
       "      <td>0</td>\n",
       "    </tr>\n",
       "    <tr>\n",
       "      <th>2</th>\n",
       "      <td>waiting pandemic home country going travel soo...</td>\n",
       "      <td>0</td>\n",
       "    </tr>\n",
       "    <tr>\n",
       "      <th>3</th>\n",
       "      <td>designremotely world resource remote designer ...</td>\n",
       "      <td>0</td>\n",
       "    </tr>\n",
       "    <tr>\n",
       "      <th>4</th>\n",
       "      <td>covid affected safety crime medellin colombia ...</td>\n",
       "      <td>0</td>\n",
       "    </tr>\n",
       "  </tbody>\n",
       "</table>\n",
       "</div>"
      ],
      "text/plain": [
       "                                               posts  origin_marriagefree\n",
       "0  esl training selling business going hunker mon...                    0\n",
       "1  work income group list comment income get feel...                    0\n",
       "2  waiting pandemic home country going travel soo...                    0\n",
       "3  designremotely world resource remote designer ...                    0\n",
       "4  covid affected safety crime medellin colombia ...                    0"
      ]
     },
     "execution_count": 13,
     "metadata": {},
     "output_type": "execute_result"
    }
   ],
   "source": [
    "combined_df.head()"
   ]
  },
  {
   "cell_type": "code",
   "execution_count": 14,
   "metadata": {},
   "outputs": [
    {
     "data": {
      "text/html": [
       "<div>\n",
       "<style scoped>\n",
       "    .dataframe tbody tr th:only-of-type {\n",
       "        vertical-align: middle;\n",
       "    }\n",
       "\n",
       "    .dataframe tbody tr th {\n",
       "        vertical-align: top;\n",
       "    }\n",
       "\n",
       "    .dataframe thead th {\n",
       "        text-align: right;\n",
       "    }\n",
       "</style>\n",
       "<table border=\"1\" class=\"dataframe\">\n",
       "  <thead>\n",
       "    <tr style=\"text-align: right;\">\n",
       "      <th></th>\n",
       "      <th>posts</th>\n",
       "      <th>origin_marriagefree</th>\n",
       "    </tr>\n",
       "  </thead>\n",
       "  <tbody>\n",
       "    <tr>\n",
       "      <th>2884</th>\n",
       "      <td>okay okay</td>\n",
       "      <td>1</td>\n",
       "    </tr>\n",
       "    <tr>\n",
       "      <th>2885</th>\n",
       "      <td>socioeconomic question always loathed concept ...</td>\n",
       "      <td>1</td>\n",
       "    </tr>\n",
       "    <tr>\n",
       "      <th>2886</th>\n",
       "      <td>finally awesome proud spinster nine year hard ...</td>\n",
       "      <td>1</td>\n",
       "    </tr>\n",
       "    <tr>\n",
       "      <th>2887</th>\n",
       "      <td>love emma goldman</td>\n",
       "      <td>1</td>\n",
       "    </tr>\n",
       "    <tr>\n",
       "      <th>2888</th>\n",
       "      <td>fleeing forced</td>\n",
       "      <td>1</td>\n",
       "    </tr>\n",
       "  </tbody>\n",
       "</table>\n",
       "</div>"
      ],
      "text/plain": [
       "                                                  posts  origin_marriagefree\n",
       "2884                                          okay okay                    1\n",
       "2885  socioeconomic question always loathed concept ...                    1\n",
       "2886  finally awesome proud spinster nine year hard ...                    1\n",
       "2887                                  love emma goldman                    1\n",
       "2888                                     fleeing forced                    1"
      ]
     },
     "execution_count": 14,
     "metadata": {},
     "output_type": "execute_result"
    }
   ],
   "source": [
    "combined_df.tail()"
   ]
  },
  {
   "cell_type": "code",
   "execution_count": 15,
   "metadata": {},
   "outputs": [],
   "source": [
    "# Setting the variables\n",
    "X = combined_df['posts']\n",
    "y = combined_df['origin_marriagefree']"
   ]
  },
  {
   "cell_type": "code",
   "execution_count": 16,
   "metadata": {},
   "outputs": [],
   "source": [
    "# Create train_test_split.\n",
    "X_train, X_test, y_train, y_test = train_test_split(X, y, stratify=y, random_state = 50)"
   ]
  },
  {
   "cell_type": "code",
   "execution_count": 17,
   "metadata": {},
   "outputs": [
    {
     "data": {
      "text/plain": [
       "(2166,)"
      ]
     },
     "execution_count": 17,
     "metadata": {},
     "output_type": "execute_result"
    }
   ],
   "source": [
    "X_train.shape"
   ]
  },
  {
   "cell_type": "code",
   "execution_count": 18,
   "metadata": {},
   "outputs": [
    {
     "data": {
      "text/plain": [
       "(723,)"
      ]
     },
     "execution_count": 18,
     "metadata": {},
     "output_type": "execute_result"
    }
   ],
   "source": [
    "X_test.shape"
   ]
  },
  {
   "cell_type": "markdown",
   "metadata": {},
   "source": [
    "## Modelling & Hyperparameter Tuning  \n",
    "\n",
    "We want to fit all the models using `GridSearchCV` so that each model will be optimized. We will select the best model based on the cross-validated scores.  "
   ]
  },
  {
   "cell_type": "markdown",
   "metadata": {},
   "source": [
    "### Baseline Prediction"
   ]
  },
  {
   "cell_type": "code",
   "execution_count": 19,
   "metadata": {},
   "outputs": [
    {
     "data": {
      "text/plain": [
       "0    0.851506\n",
       "1    0.148494\n",
       "Name: origin_marriagefree, dtype: float64"
      ]
     },
     "execution_count": 19,
     "metadata": {},
     "output_type": "execute_result"
    }
   ],
   "source": [
    "# Look at the proportions of each outcome\n",
    "y.value_counts(normalize=True)"
   ]
  },
  {
   "cell_type": "markdown",
   "metadata": {},
   "source": [
    "If we were to predict all values to be class 0 (dominant class), originated from subreddit 1 in this case, we would have correctly predicted 85% of the values."
   ]
  },
  {
   "cell_type": "markdown",
   "metadata": {},
   "source": [
    "### Type of Vectorizer  \n",
    "\n",
    "Using the basic classification models such as `LogisticRegression` and `MultinomialNB`, we want to determine which vectorizer will give us better performance, then further expand on the model types using the chosen vectorizer."
   ]
  },
  {
   "cell_type": "code",
   "execution_count": 20,
   "metadata": {},
   "outputs": [],
   "source": [
    "# Basic pipelines for each vectorizer\n",
    "pipe_lr_cvec = Pipeline([\n",
    "    ('cvec', CountVectorizer()),\n",
    "    ('lr', LogisticRegression())  \n",
    "])\n",
    "\n",
    "pipe_lr_tvec = Pipeline([\n",
    "    ('tvec', TfidfVectorizer()),\n",
    "    ('lr', LogisticRegression())  \n",
    "])\n",
    "\n",
    "pipe_nb_cvec = Pipeline([\n",
    "    ('cvec', CountVectorizer()),\n",
    "    ('nb', MultinomialNB())  \n",
    "])\n",
    "\n",
    "pipe_nb_tvec = Pipeline([\n",
    "    ('tvec', TfidfVectorizer()),\n",
    "    ('nb', MultinomialNB())  \n",
    "])"
   ]
  },
  {
   "cell_type": "code",
   "execution_count": 21,
   "metadata": {},
   "outputs": [],
   "source": [
    "# Fitting all the models\n",
    "pipe_lr_cvec.fit(X_train, y_train)\n",
    "pipe_lr_tvec.fit(X_train, y_train)\n",
    "pipe_nb_cvec.fit(X_train, y_train)\n",
    "pipe_nb_tvec.fit(X_train, y_train);"
   ]
  },
  {
   "cell_type": "code",
   "execution_count": 22,
   "metadata": {},
   "outputs": [
    {
     "data": {
      "text/plain": [
       "('cvec', CountVectorizer())"
      ]
     },
     "execution_count": 22,
     "metadata": {},
     "output_type": "execute_result"
    }
   ],
   "source": [
    "pipe_lr_cvec.steps[0]"
   ]
  },
  {
   "cell_type": "code",
   "execution_count": 23,
   "metadata": {},
   "outputs": [
    {
     "name": "stdout",
     "output_type": "stream",
     "text": [
      "Score for lr_cvec:\n",
      "0.9321378018539607\n",
      "-----------------\n",
      "Score for lr_tvec:\n",
      "0.8988984791562457\n",
      "-----------------\n",
      "Score for nb_cvec:\n",
      "0.956607528655506\n",
      "-----------------\n",
      "Score for nb_tvec:\n",
      "0.8518012792541587\n",
      "-----------------\n"
     ]
    }
   ],
   "source": [
    "# Compare scores for each model\n",
    "for model in [pipe_lr_cvec, pipe_lr_tvec, pipe_nb_cvec, pipe_nb_tvec]:\n",
    "    print(f'Score for {str(model.steps[1][0])}_{str(model.steps[0][0])}:')\n",
    "    print(cross_val_score(model, X_train, y_train, cv=5).mean())\n",
    "    print('-----------------')"
   ]
  },
  {
   "cell_type": "markdown",
   "metadata": {},
   "source": [
    "**Observations:**  \n",
    "We observed that `CountVectorizer` performed better for both Logistic Regression and Naive Bayes. We will further expand the types of models using `CountVectorizer` and also tune its hyperparameters."
   ]
  },
  {
   "cell_type": "markdown",
   "metadata": {},
   "source": [
    "### Fitting Logistic Regression"
   ]
  },
  {
   "cell_type": "code",
   "execution_count": 24,
   "metadata": {},
   "outputs": [],
   "source": [
    "# Let's set a pipeline up with two stages:\n",
    "# 1. CountVectorizer (transformer)\n",
    "# 2. LogisticRegression (estimator)\n",
    "pipe_lr = Pipeline([\n",
    "    ('cvec', CountVectorizer()),\n",
    "    ('lr', LogisticRegression())  \n",
    "])"
   ]
  },
  {
   "cell_type": "code",
   "execution_count": 25,
   "metadata": {},
   "outputs": [],
   "source": [
    "# Search over the following values of hyperparameters:\n",
    "\n",
    "pipe_lr_params = {\n",
    "    'cvec__max_features': [2500, 3000, 3500],\n",
    "    'cvec__min_df': [4, 5, 6],\n",
    "    'cvec__max_df': [0.7, 0.8],\n",
    "    'cvec__ngram_range': [(1,1), (1,2)],  \n",
    "    'lr__C': [1, 0.1],\n",
    "    'lr__solver': ['newton-cg', 'lbfgs'],\n",
    "    'lr__class_weight': ['balanced', None]\n",
    "}"
   ]
  },
  {
   "cell_type": "code",
   "execution_count": 26,
   "metadata": {},
   "outputs": [
    {
     "name": "stdout",
     "output_type": "stream",
     "text": [
      "Fitting 5 folds for each of 288 candidates, totalling 1440 fits\n"
     ]
    },
    {
     "name": "stderr",
     "output_type": "stream",
     "text": [
      "[Parallel(n_jobs=1)]: Using backend SequentialBackend with 1 concurrent workers.\n",
      "[Parallel(n_jobs=1)]: Done 1440 out of 1440 | elapsed:  5.0min finished\n"
     ]
    },
    {
     "data": {
      "text/plain": [
       "GridSearchCV(cv=5,\n",
       "             estimator=Pipeline(steps=[('cvec', CountVectorizer()),\n",
       "                                       ('lr', LogisticRegression())]),\n",
       "             param_grid={'cvec__max_df': [0.7, 0.8],\n",
       "                         'cvec__max_features': [2500, 3000, 3500],\n",
       "                         'cvec__min_df': [4, 5, 6],\n",
       "                         'cvec__ngram_range': [(1, 1), (1, 2)],\n",
       "                         'lr__C': [1, 0.1],\n",
       "                         'lr__class_weight': ['balanced', None],\n",
       "                         'lr__solver': ['newton-cg', 'lbfgs']},\n",
       "             verbose=1)"
      ]
     },
     "execution_count": 26,
     "metadata": {},
     "output_type": "execute_result"
    }
   ],
   "source": [
    "# Instantiate GridSearchCV.\n",
    "# 5-fold\n",
    "gs_lr = GridSearchCV(pipe_lr, param_grid = pipe_lr_params, cv=5,\n",
    "                     verbose=1)\n",
    "# Fit GridSearch to training data.\n",
    "gs_lr.fit(X_train, y_train)"
   ]
  },
  {
   "cell_type": "code",
   "execution_count": 27,
   "metadata": {},
   "outputs": [
    {
     "data": {
      "text/plain": [
       "{'cvec__max_df': 0.7,\n",
       " 'cvec__max_features': 3000,\n",
       " 'cvec__min_df': 4,\n",
       " 'cvec__ngram_range': (1, 1),\n",
       " 'lr__C': 1,\n",
       " 'lr__class_weight': None,\n",
       " 'lr__solver': 'newton-cg'}"
      ]
     },
     "execution_count": 27,
     "metadata": {},
     "output_type": "execute_result"
    }
   ],
   "source": [
    "gs_lr.best_params_"
   ]
  },
  {
   "cell_type": "code",
   "execution_count": 28,
   "metadata": {},
   "outputs": [
    {
     "data": {
      "text/plain": [
       "0.9381402922489117"
      ]
     },
     "execution_count": 28,
     "metadata": {},
     "output_type": "execute_result"
    }
   ],
   "source": [
    "gs_lr.best_score_"
   ]
  },
  {
   "cell_type": "code",
   "execution_count": 29,
   "metadata": {},
   "outputs": [],
   "source": [
    "# Initialize empty list to store all the scores and corresponding model names\n",
    "model_name = []\n",
    "model_scores = []\n",
    "model_var = []\n",
    "\n",
    "# Append to the lists\n",
    "model_name.append('Logistic Regression')\n",
    "model_scores.append(gs_lr.best_score_)\n",
    "model_var.append(gs_lr)"
   ]
  },
  {
   "cell_type": "markdown",
   "metadata": {},
   "source": [
    "### Fitting Naive Bayes  \n",
    "\n",
    "We will use `MultinomialNB` since the features have discrete number of outcomes and it works well with the `CountVectorizer` transformer that we are adopting.\n",
    "\n",
    "Naive Bayes classification assumes that the features are independent of one another."
   ]
  },
  {
   "cell_type": "code",
   "execution_count": 30,
   "metadata": {},
   "outputs": [],
   "source": [
    "# Let's set a pipeline up with two stages:\n",
    "# 1. CountVectorizer (transformer)\n",
    "# 2. MultinomialNB (estimator)\n",
    "pipe_nb = Pipeline([\n",
    "    ('cvec', CountVectorizer()),\n",
    "    ('nb', MultinomialNB())  \n",
    "])"
   ]
  },
  {
   "cell_type": "code",
   "execution_count": 31,
   "metadata": {},
   "outputs": [],
   "source": [
    "# Search over the following values of hyperparameters:\n",
    "\n",
    "pipe_nb_params = {\n",
    "    'cvec__max_features': [2500, 3000, 3500],\n",
    "    'cvec__min_df': [4, 5, 6],\n",
    "    'cvec__max_df': [0.7, 0.8],\n",
    "    'cvec__ngram_range': [(1,1), (1,2)],  \n",
    "    'nb__alpha': [0.1, 0.2, 0.3, 0.4, 0.5, 0.6, 0.8, 1]\n",
    "}"
   ]
  },
  {
   "cell_type": "code",
   "execution_count": 32,
   "metadata": {},
   "outputs": [
    {
     "name": "stdout",
     "output_type": "stream",
     "text": [
      "Fitting 5 folds for each of 288 candidates, totalling 1440 fits\n"
     ]
    },
    {
     "name": "stderr",
     "output_type": "stream",
     "text": [
      "[Parallel(n_jobs=1)]: Using backend SequentialBackend with 1 concurrent workers.\n",
      "[Parallel(n_jobs=1)]: Done 1440 out of 1440 | elapsed:  4.2min finished\n"
     ]
    },
    {
     "data": {
      "text/plain": [
       "GridSearchCV(cv=5,\n",
       "             estimator=Pipeline(steps=[('cvec', CountVectorizer()),\n",
       "                                       ('nb', MultinomialNB())]),\n",
       "             param_grid={'cvec__max_df': [0.7, 0.8],\n",
       "                         'cvec__max_features': [2500, 3000, 3500],\n",
       "                         'cvec__min_df': [4, 5, 6],\n",
       "                         'cvec__ngram_range': [(1, 1), (1, 2)],\n",
       "                         'nb__alpha': [0.1, 0.2, 0.3, 0.4, 0.5, 0.6, 0.8, 1]},\n",
       "             verbose=1)"
      ]
     },
     "execution_count": 32,
     "metadata": {},
     "output_type": "execute_result"
    }
   ],
   "source": [
    "# Instantiate GridSearchCV.\n",
    "# 5-fold\n",
    "gs_nb = GridSearchCV(pipe_nb, param_grid = pipe_nb_params, cv=5,\n",
    "                     verbose=1)\n",
    "# Fit GridSearch to training data.\n",
    "gs_nb.fit(X_train, y_train)"
   ]
  },
  {
   "cell_type": "code",
   "execution_count": 33,
   "metadata": {},
   "outputs": [
    {
     "data": {
      "text/plain": [
       "{'cvec__max_df': 0.7,\n",
       " 'cvec__max_features': 3000,\n",
       " 'cvec__min_df': 4,\n",
       " 'cvec__ngram_range': (1, 1),\n",
       " 'nb__alpha': 0.1}"
      ]
     },
     "execution_count": 33,
     "metadata": {},
     "output_type": "execute_result"
    }
   ],
   "source": [
    "gs_nb.best_params_"
   ]
  },
  {
   "cell_type": "code",
   "execution_count": 34,
   "metadata": {},
   "outputs": [
    {
     "data": {
      "text/plain": [
       "0.9626089547791106"
      ]
     },
     "execution_count": 34,
     "metadata": {},
     "output_type": "execute_result"
    }
   ],
   "source": [
    "gs_nb.best_score_"
   ]
  },
  {
   "cell_type": "code",
   "execution_count": 35,
   "metadata": {},
   "outputs": [],
   "source": [
    "# Append to the lists\n",
    "model_name.append('Naive Bayes')\n",
    "model_scores.append(gs_nb.best_score_)\n",
    "model_var.append(gs_nb)"
   ]
  },
  {
   "cell_type": "markdown",
   "metadata": {},
   "source": [
    "### Fitting Random Forest  \n",
    "\n",
    "We will be using `RandomForestClassifier` and forgo the creation of model using `DecisionTreeClassifier` or `BaggingClassifier` because RandomForest tend to perform better than the other two in terms of accuracy."
   ]
  },
  {
   "cell_type": "code",
   "execution_count": 36,
   "metadata": {},
   "outputs": [],
   "source": [
    "# Let's set a pipeline up with two stages:\n",
    "# 1. CountVectorizer (transformer)\n",
    "# 2. RandomForestClassifier (estimator)\n",
    "pipe_rf = Pipeline([\n",
    "    ('cvec', CountVectorizer()),\n",
    "    ('rf', RandomForestClassifier(random_state=50))  \n",
    "])"
   ]
  },
  {
   "cell_type": "code",
   "execution_count": 37,
   "metadata": {},
   "outputs": [],
   "source": [
    "# Search over the following values of hyperparameters:\n",
    "\n",
    "pipe_rf_params = {\n",
    "    'cvec__max_features': [2500, 3000, 3500],\n",
    "    'cvec__min_df': [4, 5, 6],\n",
    "    'cvec__max_df': [0.7, 0.8],\n",
    "    'cvec__ngram_range': [(1,1), (1,2)],\n",
    "    'rf__n_estimators': [80, 100],\n",
    "    'rf__max_depth': [3, 5],\n",
    "    'rf__min_samples_leaf': [2, 4]\n",
    "}"
   ]
  },
  {
   "cell_type": "code",
   "execution_count": 38,
   "metadata": {},
   "outputs": [
    {
     "name": "stderr",
     "output_type": "stream",
     "text": [
      "[Parallel(n_jobs=1)]: Using backend SequentialBackend with 1 concurrent workers.\n"
     ]
    },
    {
     "name": "stdout",
     "output_type": "stream",
     "text": [
      "Fitting 5 folds for each of 288 candidates, totalling 1440 fits\n"
     ]
    },
    {
     "name": "stderr",
     "output_type": "stream",
     "text": [
      "[Parallel(n_jobs=1)]: Done 1440 out of 1440 | elapsed:  7.2min finished\n"
     ]
    },
    {
     "data": {
      "text/plain": [
       "GridSearchCV(cv=5,\n",
       "             estimator=Pipeline(steps=[('cvec', CountVectorizer()),\n",
       "                                       ('rf',\n",
       "                                        RandomForestClassifier(random_state=50))]),\n",
       "             param_grid={'cvec__max_df': [0.7, 0.8],\n",
       "                         'cvec__max_features': [2500, 3000, 3500],\n",
       "                         'cvec__min_df': [4, 5, 6],\n",
       "                         'cvec__ngram_range': [(1, 1), (1, 2)],\n",
       "                         'rf__max_depth': [3, 5],\n",
       "                         'rf__min_samples_leaf': [2, 4],\n",
       "                         'rf__n_estimators': [80, 100]},\n",
       "             verbose=1)"
      ]
     },
     "execution_count": 38,
     "metadata": {},
     "output_type": "execute_result"
    }
   ],
   "source": [
    "# Instantiate GridSearchCV.\n",
    "# 5-fold\n",
    "gs_rf = GridSearchCV(pipe_rf, param_grid = pipe_rf_params, cv=5,\n",
    "                     verbose=1)\n",
    "# Fit GridSearch to training data.\n",
    "gs_rf.fit(X_train, y_train)"
   ]
  },
  {
   "cell_type": "code",
   "execution_count": 39,
   "metadata": {},
   "outputs": [
    {
     "data": {
      "text/plain": [
       "{'cvec__max_df': 0.7,\n",
       " 'cvec__max_features': 3000,\n",
       " 'cvec__min_df': 6,\n",
       " 'cvec__ngram_range': (1, 2),\n",
       " 'rf__max_depth': 5,\n",
       " 'rf__min_samples_leaf': 2,\n",
       " 'rf__n_estimators': 80}"
      ]
     },
     "execution_count": 39,
     "metadata": {},
     "output_type": "execute_result"
    }
   ],
   "source": [
    "gs_rf.best_params_"
   ]
  },
  {
   "cell_type": "code",
   "execution_count": 40,
   "metadata": {},
   "outputs": [
    {
     "data": {
      "text/plain": [
       "0.8601111099285873"
      ]
     },
     "execution_count": 40,
     "metadata": {},
     "output_type": "execute_result"
    }
   ],
   "source": [
    "gs_rf.best_score_"
   ]
  },
  {
   "cell_type": "code",
   "execution_count": 41,
   "metadata": {},
   "outputs": [],
   "source": [
    "# Append to the lists\n",
    "model_name.append('Random Forest')\n",
    "model_scores.append(gs_rf.best_score_)\n",
    "model_var.append(gs_rf)"
   ]
  },
  {
   "cell_type": "markdown",
   "metadata": {},
   "source": [
    "### Fitting Boosted Trees  "
   ]
  },
  {
   "cell_type": "code",
   "execution_count": 42,
   "metadata": {},
   "outputs": [],
   "source": [
    "# Let's set a pipeline up with two stages:\n",
    "# 1. CountVectorizer (transformer)\n",
    "# 2. AdaBoost (estimator)\n",
    "pipe_ada = Pipeline([\n",
    "    ('cvec', CountVectorizer()),\n",
    "    ('ada', AdaBoostClassifier(random_state=50))  \n",
    "])"
   ]
  },
  {
   "cell_type": "code",
   "execution_count": 43,
   "metadata": {},
   "outputs": [],
   "source": [
    "# Search over the following values of hyperparameters:\n",
    "\n",
    "pipe_ada_params = {\n",
    "    'cvec__max_features': [2500, 3000, 3500],\n",
    "    'cvec__min_df': [4, 5, 6],\n",
    "    'cvec__max_df': [0.7, 0.8],\n",
    "    'cvec__ngram_range': [(1,1), (1,2)],\n",
    "    'ada__n_estimators': [30, 40, 50],\n",
    "    'ada__learning_rate': [0.8, 0.9, 1]\n",
    "}"
   ]
  },
  {
   "cell_type": "code",
   "execution_count": 44,
   "metadata": {},
   "outputs": [
    {
     "name": "stdout",
     "output_type": "stream",
     "text": [
      "Fitting 5 folds for each of 324 candidates, totalling 1620 fits\n"
     ]
    },
    {
     "name": "stderr",
     "output_type": "stream",
     "text": [
      "[Parallel(n_jobs=1)]: Using backend SequentialBackend with 1 concurrent workers.\n",
      "[Parallel(n_jobs=1)]: Done 1620 out of 1620 | elapsed:  9.0min finished\n"
     ]
    },
    {
     "data": {
      "text/plain": [
       "GridSearchCV(cv=5,\n",
       "             estimator=Pipeline(steps=[('cvec', CountVectorizer()),\n",
       "                                       ('ada',\n",
       "                                        AdaBoostClassifier(random_state=50))]),\n",
       "             param_grid={'ada__learning_rate': [0.8, 0.9, 1],\n",
       "                         'ada__n_estimators': [30, 40, 50],\n",
       "                         'cvec__max_df': [0.7, 0.8],\n",
       "                         'cvec__max_features': [2500, 3000, 3500],\n",
       "                         'cvec__min_df': [4, 5, 6],\n",
       "                         'cvec__ngram_range': [(1, 1), (1, 2)]},\n",
       "             verbose=1)"
      ]
     },
     "execution_count": 44,
     "metadata": {},
     "output_type": "execute_result"
    }
   ],
   "source": [
    "# Instantiate GridSearchCV.\n",
    "# 5-fold\n",
    "gs_ada = GridSearchCV(pipe_ada, param_grid = pipe_ada_params, cv=5,\n",
    "                     verbose=1)\n",
    "# Fit GridSearch to training data.\n",
    "gs_ada.fit(X_train, y_train)"
   ]
  },
  {
   "cell_type": "code",
   "execution_count": 45,
   "metadata": {},
   "outputs": [
    {
     "data": {
      "text/plain": [
       "{'ada__learning_rate': 0.9,\n",
       " 'ada__n_estimators': 30,\n",
       " 'cvec__max_df': 0.7,\n",
       " 'cvec__max_features': 2500,\n",
       " 'cvec__min_df': 4,\n",
       " 'cvec__ngram_range': (1, 1)}"
      ]
     },
     "execution_count": 45,
     "metadata": {},
     "output_type": "execute_result"
    }
   ],
   "source": [
    "gs_ada.best_params_"
   ]
  },
  {
   "cell_type": "code",
   "execution_count": 46,
   "metadata": {},
   "outputs": [
    {
     "data": {
      "text/plain": [
       "0.9275177999382723"
      ]
     },
     "execution_count": 46,
     "metadata": {},
     "output_type": "execute_result"
    }
   ],
   "source": [
    "gs_ada.best_score_"
   ]
  },
  {
   "cell_type": "code",
   "execution_count": 47,
   "metadata": {},
   "outputs": [],
   "source": [
    "# Append to the lists\n",
    "model_name.append('AdaBoost')\n",
    "model_scores.append(gs_ada.best_score_)\n",
    "model_var.append(gs_ada)"
   ]
  },
  {
   "cell_type": "markdown",
   "metadata": {},
   "source": [
    "### Fitting Support Vector Classifier "
   ]
  },
  {
   "cell_type": "code",
   "execution_count": 48,
   "metadata": {},
   "outputs": [],
   "source": [
    "# Let's set a pipeline up with two stages:\n",
    "# 1. CountVectorizer (transformer)\n",
    "# 2. SVC (estimator)\n",
    "pipe_svc = Pipeline([\n",
    "    ('cvec', CountVectorizer()),\n",
    "    ('svc', SVC())  \n",
    "])"
   ]
  },
  {
   "cell_type": "code",
   "execution_count": 49,
   "metadata": {},
   "outputs": [],
   "source": [
    "# Search over the following values of hyperparameters:\n",
    "\n",
    "pipe_svc_params = {\n",
    "    'cvec__max_features': [2500, 3000, 3500],\n",
    "    'cvec__min_df': [4, 5, 6],\n",
    "    'cvec__max_df': [0.7, 0.8],\n",
    "    'cvec__ngram_range': [(1,1), (1,2)],  \n",
    "    'svc__C': [1, 0.1],\n",
    "    'svc__kernel': ['rbf', 'poly'],\n",
    "    'svc__degree': [2, 3]\n",
    "}"
   ]
  },
  {
   "cell_type": "code",
   "execution_count": 50,
   "metadata": {},
   "outputs": [
    {
     "name": "stdout",
     "output_type": "stream",
     "text": [
      "Fitting 5 folds for each of 288 candidates, totalling 1440 fits\n"
     ]
    },
    {
     "name": "stderr",
     "output_type": "stream",
     "text": [
      "[Parallel(n_jobs=1)]: Using backend SequentialBackend with 1 concurrent workers.\n",
      "[Parallel(n_jobs=1)]: Done 1440 out of 1440 | elapsed: 15.9min finished\n"
     ]
    },
    {
     "data": {
      "text/plain": [
       "GridSearchCV(cv=5,\n",
       "             estimator=Pipeline(steps=[('cvec', CountVectorizer()),\n",
       "                                       ('svc', SVC())]),\n",
       "             param_grid={'cvec__max_df': [0.7, 0.8],\n",
       "                         'cvec__max_features': [2500, 3000, 3500],\n",
       "                         'cvec__min_df': [4, 5, 6],\n",
       "                         'cvec__ngram_range': [(1, 1), (1, 2)],\n",
       "                         'svc__C': [1, 0.1], 'svc__degree': [2, 3],\n",
       "                         'svc__kernel': ['rbf', 'poly']},\n",
       "             verbose=1)"
      ]
     },
     "execution_count": 50,
     "metadata": {},
     "output_type": "execute_result"
    }
   ],
   "source": [
    "# Instantiate GridSearchCV.\n",
    "# 5-fold\n",
    "gs_svc = GridSearchCV(pipe_svc, param_grid = pipe_svc_params, cv=5,\n",
    "                     verbose=1)\n",
    "# Fit GridSearch to training data.\n",
    "gs_svc.fit(X_train, y_train)"
   ]
  },
  {
   "cell_type": "code",
   "execution_count": 51,
   "metadata": {},
   "outputs": [
    {
     "data": {
      "text/plain": [
       "{'cvec__max_df': 0.7,\n",
       " 'cvec__max_features': 2500,\n",
       " 'cvec__min_df': 4,\n",
       " 'cvec__ngram_range': (1, 2),\n",
       " 'svc__C': 1,\n",
       " 'svc__degree': 2,\n",
       " 'svc__kernel': 'rbf'}"
      ]
     },
     "execution_count": 51,
     "metadata": {},
     "output_type": "execute_result"
    }
   ],
   "source": [
    "gs_svc.best_params_"
   ]
  },
  {
   "cell_type": "code",
   "execution_count": 52,
   "metadata": {},
   "outputs": [
    {
     "data": {
      "text/plain": [
       "0.902128542693245"
      ]
     },
     "execution_count": 52,
     "metadata": {},
     "output_type": "execute_result"
    }
   ],
   "source": [
    "gs_svc.best_score_"
   ]
  },
  {
   "cell_type": "code",
   "execution_count": 53,
   "metadata": {},
   "outputs": [],
   "source": [
    "# Append to the lists\n",
    "model_name.append('Support Vector Classifier')\n",
    "model_scores.append(gs_svc.best_score_)\n",
    "model_var.append(gs_svc)"
   ]
  },
  {
   "cell_type": "markdown",
   "metadata": {},
   "source": [
    "## Model Selection & Evaluation"
   ]
  },
  {
   "cell_type": "code",
   "execution_count": 80,
   "metadata": {},
   "outputs": [
    {
     "data": {
      "text/html": [
       "<div>\n",
       "<style scoped>\n",
       "    .dataframe tbody tr th:only-of-type {\n",
       "        vertical-align: middle;\n",
       "    }\n",
       "\n",
       "    .dataframe tbody tr th {\n",
       "        vertical-align: top;\n",
       "    }\n",
       "\n",
       "    .dataframe thead th {\n",
       "        text-align: right;\n",
       "    }\n",
       "</style>\n",
       "<table border=\"1\" class=\"dataframe\">\n",
       "  <thead>\n",
       "    <tr style=\"text-align: right;\">\n",
       "      <th></th>\n",
       "      <th>Model Type</th>\n",
       "      <th>CV Score</th>\n",
       "      <th>Precision</th>\n",
       "      <th>Recall</th>\n",
       "      <th>F1-Score</th>\n",
       "    </tr>\n",
       "  </thead>\n",
       "  <tbody>\n",
       "    <tr>\n",
       "      <th>1</th>\n",
       "      <td>Naive Bayes</td>\n",
       "      <td>0.962609</td>\n",
       "      <td>0.956293</td>\n",
       "      <td>0.920364</td>\n",
       "      <td>0.937222</td>\n",
       "    </tr>\n",
       "    <tr>\n",
       "      <th>0</th>\n",
       "      <td>Logistic Regression</td>\n",
       "      <td>0.938140</td>\n",
       "      <td>0.944468</td>\n",
       "      <td>0.823856</td>\n",
       "      <td>0.870535</td>\n",
       "    </tr>\n",
       "    <tr>\n",
       "      <th>3</th>\n",
       "      <td>AdaBoost</td>\n",
       "      <td>0.927518</td>\n",
       "      <td>0.936613</td>\n",
       "      <td>0.791146</td>\n",
       "      <td>0.843201</td>\n",
       "    </tr>\n",
       "    <tr>\n",
       "      <th>4</th>\n",
       "      <td>Support Vector Classifier</td>\n",
       "      <td>0.902129</td>\n",
       "      <td>0.950292</td>\n",
       "      <td>0.682243</td>\n",
       "      <td>0.740969</td>\n",
       "    </tr>\n",
       "    <tr>\n",
       "      <th>2</th>\n",
       "      <td>Random Forest</td>\n",
       "      <td>0.860111</td>\n",
       "      <td>0.930168</td>\n",
       "      <td>0.532710</td>\n",
       "      <td>0.523866</td>\n",
       "    </tr>\n",
       "  </tbody>\n",
       "</table>\n",
       "</div>"
      ],
      "text/plain": [
       "                  Model Type  CV Score  Precision    Recall  F1-Score\n",
       "1                Naive Bayes  0.962609   0.956293  0.920364  0.937222\n",
       "0        Logistic Regression  0.938140   0.944468  0.823856  0.870535\n",
       "3                   AdaBoost  0.927518   0.936613  0.791146  0.843201\n",
       "4  Support Vector Classifier  0.902129   0.950292  0.682243  0.740969\n",
       "2              Random Forest  0.860111   0.930168  0.532710  0.523866"
      ]
     },
     "execution_count": 80,
     "metadata": {},
     "output_type": "execute_result"
    }
   ],
   "source": [
    "# View the evaluation metrics for all models in a dataframe\n",
    "# Sorted by highest accuracy\n",
    "precision_list = []\n",
    "recall_list = []\n",
    "fscore_list = []\n",
    "for model in model_var:\n",
    "    y_pred = model.predict(X_test)\n",
    "    precision, recall, fscore, support = precision_recall_fscore_support(y_test, y_pred, average='macro')\n",
    "    precision_list.append(precision)\n",
    "    recall_list.append(recall)\n",
    "    fscore_list.append(fscore)\n",
    "\n",
    "pd.DataFrame({'Model Type': model_name,\n",
    "             'CV Score': model_scores,\n",
    "             'Precision': precision_list,\n",
    "             'Recall': recall_list,\n",
    "             'F1-Score': fscore_list}).sort_values(by='CV Score', ascending=False)"
   ]
  },
  {
   "cell_type": "code",
   "execution_count": 55,
   "metadata": {
    "scrolled": false
   },
   "outputs": [
    {
     "data": {
      "image/png": "[encoded data removed]",
      "text/plain": [
       "<Figure size 864x576 with 1 Axes>"
      ]
     },
     "metadata": {
      "needs_background": "light"
     },
     "output_type": "display_data"
    }
   ],
   "source": [
    "# Plotting the ROC curves for every model\n",
    "plt.figure(figsize=(12,8))\n",
    "ax = plt.gca()\n",
    "for model, m_name in zip(model_var, model_name):\n",
    "    plot_roc_curve(model, X_test, y_test, name=m_name, ax=ax)\n",
    "plt.title('ROC-AUC Curves of Models', fontsize=15);"
   ]
  },
  {
   "cell_type": "code",
   "execution_count": 56,
   "metadata": {},
   "outputs": [],
   "source": [
    "# Function to plot multiple confusion matrix\n",
    "def subplot_confusion_matrix(model_list, model_name, X_test, y_test):\n",
    "    nrows = int(np.ceil(len(model_list)/3))   # Ensure have enough rows\n",
    "    fig, ax = plt.subplots(nrows=nrows, ncols=3, figsize=(14, nrows*4))   \n",
    "    plt.subplots_adjust(hspace = 0.4)\n",
    "    ax = ax.ravel()   # Ravel turns a matrix into a vector, which is easier to iterate\n",
    "    for i, model in enumerate(model_list):   # Gives us an index value to get into all our lists\n",
    "        plot_confusion_matrix(model, X_test, y_test, cmap='Blues', values_format='d', ax=ax[i])\n",
    "        ax[i].set_title(model_name[i])\n",
    "    \n",
    "        # display scale and label only on the left edge\n",
    "        if i%3 != 0:\n",
    "            ax[i].set_ylabel('')\n",
    "            ax[i].set_yticklabels('')\n",
    "    # This code below is to switch off the axes if there is an odd number of subplots\n",
    "    for axes in ax.flat[len(model_list):]:\n",
    "        axes.axis('off')\n",
    "    fig.tight_layout()\n",
    "    pass"
   ]
  },
  {
   "cell_type": "code",
   "execution_count": 57,
   "metadata": {},
   "outputs": [
    {
     "data": {
      "image/png": "[encoded data removed]",
      "text/plain": [
       "<Figure size 1008x576 with 11 Axes>"
      ]
     },
     "metadata": {
      "needs_background": "light"
     },
     "output_type": "display_data"
    }
   ],
   "source": [
    "# Plotting confusion matrix for all models\n",
    "subplot_confusion_matrix(model_var, model_name, X_test, y_test)"
   ]
  },
  {
   "cell_type": "markdown",
   "metadata": {},
   "source": [
    "**Observations:**  \n",
    "From the above, we are able to observe the following things:  \n",
    "1. **Cross-validated score** - The CV scores of all the tuned models using `GridSearchCV`. This simulates the estimated accuracy of each model on unseen data. Ideally, we want to pick the model with the highest CV score (closest to 1.0).\n",
    "2. **Precision** - The precision is the ability of the classifier to not label a negative sample as positive. The higher the precision, the better the classifier model is at positive samples correctly.\n",
    "3. **Recall** - The recall is the ability of the classifier to find all the positive samples. The higher the recall, the higher the proportion of correctly predicted positive samples.\n",
    "4. **F1-Score** - The F1 score is the weighted average of the precision and recall, where it reaches its best value at 1 and worst score at 0. The relative contribution of precision and recall to the F1 score are equal. The higher the F1 score, the better the classifier is.\n",
    "5. **ROC-AUC curve** - The ROC-AUC curves of all the tuned models. We can observe the relationship between the True Positive Rate (a.k.a. sensitivity or recall) and the False Positive Rate (a.k.a. specificity). Ideally, we want to pick the model with the highest ROC AUC (closest to 1.0), where the positive and negative classes are most separated.\n",
    "6. **Confusion matrix** - The confusion matrix of all the tuned models, where we can observe the number of True/False Positives and True/False Negatives. In this case, we want to choose a model where it can best reduce the total number of incorrect predictions, in other words the least number of False Positives and False Negatives.\n",
    "\n",
    "By observing the above, we see that all of the models performed better than the baseline prediction. Of which, the model best optimized on the various scoring metrics is the **Naive Bayes model**.\n",
    "\n",
    "#### Naive Bayes Summary\n",
    "\n",
    "This classifier works on the principle of conditional probability, as given by the Bayes theorem. For each token, it calculates the conditional probability of that token given each class. This is done for every token and both classes to make a prediction. It assumes that the features are independent of one another.\n",
    "\n",
    "Advantages of Naive Bayes include:\n",
    "- It is simple and easy to implement.\n",
    "- It doesn’t require as much training data.\n",
    "- It is highly scalable with the number of predictors and data points. This means that it works well in cases such as text classification.\n",
    "- It is not sensitive to irrelevant features.\n",
    "\n",
    "Caveats of Naive Bayes include:  \n",
    "- In real life, it is almost impossible to find a set of predictors which are completely independent. This would violate the assumption of feature independency.\n",
    "- It would not be able to make a prediction on unseen data that if a categorical variable has a category in test data set, which was not observed in training data set. This is often known as Zero Frequency. In spite of that, this issue could be solved by using smoothing techniques such as Laplace estimation.\n",
    "\n",
    "### Hyperparameters Extraction\n",
    "\n",
    "We want to extract the hyperparameters selected by `GridSearchCV` for the selected model and re-fit the model to be used for validation. The reason for doing this is because the cross-validation trained the model using 4 out of 5 folds of data, we want to train the model again using the full training dataset."
   ]
  },
  {
   "cell_type": "code",
   "execution_count": 58,
   "metadata": {},
   "outputs": [
    {
     "data": {
      "text/plain": [
       "{'cvec__max_df': 0.7,\n",
       " 'cvec__max_features': 3000,\n",
       " 'cvec__min_df': 4,\n",
       " 'cvec__ngram_range': (1, 1),\n",
       " 'nb__alpha': 0.1}"
      ]
     },
     "execution_count": 58,
     "metadata": {},
     "output_type": "execute_result"
    }
   ],
   "source": [
    "# Hyperparameters for the selected model\n",
    "gs_nb.best_params_"
   ]
  },
  {
   "cell_type": "code",
   "execution_count": 59,
   "metadata": {},
   "outputs": [
    {
     "data": {
      "text/plain": [
       "Pipeline(steps=[('cvec',\n",
       "                 CountVectorizer(max_df=0.7, max_features=3000, min_df=4)),\n",
       "                ('nb', MultinomialNB(alpha=0.1))])"
      ]
     },
     "execution_count": 59,
     "metadata": {},
     "output_type": "execute_result"
    }
   ],
   "source": [
    "# Setting up the pipeline\n",
    "best_model = Pipeline([\n",
    "    ('cvec', CountVectorizer(max_df=0.7,\n",
    "                            max_features=3000,\n",
    "                            min_df=4,\n",
    "                            ngram_range=(1,1))),\n",
    "    ('nb', MultinomialNB(alpha=0.1))  \n",
    "])\n",
    "\n",
    "# Fitting the model\n",
    "best_model.fit(X_train, y_train)"
   ]
  },
  {
   "cell_type": "markdown",
   "metadata": {},
   "source": [
    "### Validation"
   ]
  },
  {
   "cell_type": "code",
   "execution_count": 60,
   "metadata": {},
   "outputs": [
    {
     "name": "stdout",
     "output_type": "stream",
     "text": [
      "Accuracy score on training data:\n",
      "0.9792243767313019\n",
      "------------------------\n",
      "Accuracy score on testing data:\n",
      "0.9695712309820194\n"
     ]
    }
   ],
   "source": [
    "# Scoring the model on train and test data\n",
    "print('Accuracy score on training data:')\n",
    "print(best_model.score(X_train, y_train))\n",
    "print('------------------------')\n",
    "print('Accuracy score on testing data:')\n",
    "print(best_model.score(X_test, y_test))"
   ]
  },
  {
   "cell_type": "markdown",
   "metadata": {},
   "source": [
    "We observe that the accuracy score on the training data is slightly higher than that of the testing data which indicates that the model is slightly overfitted but only to a small extent.\n",
    "\n",
    "The high accuracy score tells us that the model had very effective means of distinguishing between the two subreddits, which suggests that digital nomads and single/unmarried people talk about very different things."
   ]
  },
  {
   "cell_type": "markdown",
   "metadata": {},
   "source": [
    "## Further Exploration  \n",
    "\n",
    "We want to explore the classification model further and its performance on the data."
   ]
  },
  {
   "cell_type": "markdown",
   "metadata": {},
   "source": [
    "### Word Importance  \n",
    "\n",
    "We want to understand which words influence the classification of each class the most."
   ]
  },
  {
   "cell_type": "code",
   "execution_count": 61,
   "metadata": {},
   "outputs": [
    {
     "data": {
      "text/plain": [
       "array([[ 19., 173.,  94., ...,  28.,  20.,   9.],\n",
       "       [  3.,  14.,   0., ...,   3.,   0.,   0.]])"
      ]
     },
     "execution_count": 61,
     "metadata": {},
     "output_type": "execute_result"
    }
   ],
   "source": [
    "# Naive Bayes counts the number of times each token appears in each class\n",
    "# trailing underscore - learned during fitting\n",
    "nb = best_model.steps[1][1]\n",
    "nb.feature_count_"
   ]
  },
  {
   "cell_type": "markdown",
   "metadata": {},
   "source": [
    "Each row in the above array represents the class, and each column represents the count of the token appearing given that class."
   ]
  },
  {
   "cell_type": "code",
   "execution_count": 62,
   "metadata": {},
   "outputs": [
    {
     "data": {
      "text/plain": [
       "array([ 19., 173.,  94., ...,  28.,  20.,   9.])"
      ]
     },
     "execution_count": 62,
     "metadata": {},
     "output_type": "execute_result"
    }
   ],
   "source": [
    "# number of times each token appears across all subreddit 1 posts\n",
    "sr1_token_count = nb.feature_count_[0, :]\n",
    "sr1_token_count"
   ]
  },
  {
   "cell_type": "code",
   "execution_count": 63,
   "metadata": {},
   "outputs": [
    {
     "data": {
      "text/plain": [
       "array([ 3., 14.,  0., ...,  3.,  0.,  0.])"
      ]
     },
     "execution_count": 63,
     "metadata": {},
     "output_type": "execute_result"
    }
   ],
   "source": [
    "# number of times each token appears across all subreddit 2 posts\n",
    "sr2_token_count = nb.feature_count_[1, :]\n",
    "sr2_token_count"
   ]
  },
  {
   "cell_type": "code",
   "execution_count": 64,
   "metadata": {},
   "outputs": [
    {
     "data": {
      "text/html": [
       "<div>\n",
       "<style scoped>\n",
       "    .dataframe tbody tr th:only-of-type {\n",
       "        vertical-align: middle;\n",
       "    }\n",
       "\n",
       "    .dataframe tbody tr th {\n",
       "        vertical-align: top;\n",
       "    }\n",
       "\n",
       "    .dataframe thead th {\n",
       "        text-align: right;\n",
       "    }\n",
       "</style>\n",
       "<table border=\"1\" class=\"dataframe\">\n",
       "  <thead>\n",
       "    <tr style=\"text-align: right;\">\n",
       "      <th></th>\n",
       "      <th>digitalnomad</th>\n",
       "      <th>marriagefree</th>\n",
       "    </tr>\n",
       "    <tr>\n",
       "      <th>token</th>\n",
       "      <th></th>\n",
       "      <th></th>\n",
       "    </tr>\n",
       "  </thead>\n",
       "  <tbody>\n",
       "    <tr>\n",
       "      <th>ability</th>\n",
       "      <td>19.0</td>\n",
       "      <td>3.0</td>\n",
       "    </tr>\n",
       "    <tr>\n",
       "      <th>able</th>\n",
       "      <td>173.0</td>\n",
       "      <td>14.0</td>\n",
       "    </tr>\n",
       "    <tr>\n",
       "      <th>abroad</th>\n",
       "      <td>94.0</td>\n",
       "      <td>0.0</td>\n",
       "    </tr>\n",
       "    <tr>\n",
       "      <th>absolute</th>\n",
       "      <td>11.0</td>\n",
       "      <td>1.0</td>\n",
       "    </tr>\n",
       "    <tr>\n",
       "      <th>absolutely</th>\n",
       "      <td>22.0</td>\n",
       "      <td>6.0</td>\n",
       "    </tr>\n",
       "  </tbody>\n",
       "</table>\n",
       "</div>"
      ],
      "text/plain": [
       "            digitalnomad  marriagefree\n",
       "token                                 \n",
       "ability             19.0           3.0\n",
       "able               173.0          14.0\n",
       "abroad              94.0           0.0\n",
       "absolute            11.0           1.0\n",
       "absolutely          22.0           6.0"
      ]
     },
     "execution_count": 64,
     "metadata": {},
     "output_type": "execute_result"
    }
   ],
   "source": [
    "# create a DataFrame of tokens with their separate ham and spam counts\n",
    "vect = best_model.steps[0][1]\n",
    "X_train_tokens = vect.get_feature_names()\n",
    "tokens = pd.DataFrame({'token':X_train_tokens, 'digitalnomad':sr1_token_count, 'marriagefree':sr2_token_count}).set_index('token')\n",
    "tokens.head()"
   ]
  },
  {
   "cell_type": "code",
   "execution_count": 65,
   "metadata": {},
   "outputs": [
    {
     "data": {
      "text/plain": [
       "array([1844.,  322.])"
      ]
     },
     "execution_count": 65,
     "metadata": {},
     "output_type": "execute_result"
    }
   ],
   "source": [
    "# Naive Bayes counts the number of observations in each class\n",
    "nb.class_count_"
   ]
  },
  {
   "cell_type": "code",
   "execution_count": 66,
   "metadata": {},
   "outputs": [
    {
     "data": {
      "text/html": [
       "<div>\n",
       "<style scoped>\n",
       "    .dataframe tbody tr th:only-of-type {\n",
       "        vertical-align: middle;\n",
       "    }\n",
       "\n",
       "    .dataframe tbody tr th {\n",
       "        vertical-align: top;\n",
       "    }\n",
       "\n",
       "    .dataframe thead th {\n",
       "        text-align: right;\n",
       "    }\n",
       "</style>\n",
       "<table border=\"1\" class=\"dataframe\">\n",
       "  <thead>\n",
       "    <tr style=\"text-align: right;\">\n",
       "      <th></th>\n",
       "      <th>digitalnomad</th>\n",
       "      <th>marriagefree</th>\n",
       "      <th>ratio</th>\n",
       "    </tr>\n",
       "    <tr>\n",
       "      <th>token</th>\n",
       "      <th></th>\n",
       "      <th></th>\n",
       "      <th></th>\n",
       "    </tr>\n",
       "  </thead>\n",
       "  <tbody>\n",
       "    <tr>\n",
       "      <th>zanzibar</th>\n",
       "      <td>0.003796</td>\n",
       "      <td>0.003106</td>\n",
       "      <td>1.222343</td>\n",
       "    </tr>\n",
       "    <tr>\n",
       "      <th>zealand</th>\n",
       "      <td>0.008677</td>\n",
       "      <td>0.003106</td>\n",
       "      <td>2.793926</td>\n",
       "    </tr>\n",
       "    <tr>\n",
       "      <th>zero</th>\n",
       "      <td>0.015727</td>\n",
       "      <td>0.012422</td>\n",
       "      <td>1.265998</td>\n",
       "    </tr>\n",
       "    <tr>\n",
       "      <th>zone</th>\n",
       "      <td>0.011388</td>\n",
       "      <td>0.003106</td>\n",
       "      <td>3.667028</td>\n",
       "    </tr>\n",
       "    <tr>\n",
       "      <th>zoom</th>\n",
       "      <td>0.005423</td>\n",
       "      <td>0.003106</td>\n",
       "      <td>1.746204</td>\n",
       "    </tr>\n",
       "  </tbody>\n",
       "</table>\n",
       "</div>"
      ],
      "text/plain": [
       "          digitalnomad  marriagefree     ratio\n",
       "token                                         \n",
       "zanzibar      0.003796      0.003106  1.222343\n",
       "zealand       0.008677      0.003106  2.793926\n",
       "zero          0.015727      0.012422  1.265998\n",
       "zone          0.011388      0.003106  3.667028\n",
       "zoom          0.005423      0.003106  1.746204"
      ]
     },
     "execution_count": 66,
     "metadata": {},
     "output_type": "execute_result"
    }
   ],
   "source": [
    "# Convert the token counts into frequencies\n",
    "# we add a value of 1 first to prevent divide by zero error\n",
    "tokens['digitalnomad'] = (tokens['digitalnomad'] + 1) / nb.class_count_[0]\n",
    "tokens['marriagefree'] = (tokens['marriagefree'] + 1) / nb.class_count_[1]\n",
    "\n",
    "# Calculate the ratio of subreddit 1-to-subreddit 2 for each token\n",
    "tokens['ratio'] = tokens['digitalnomad'] / tokens['marriagefree']\n",
    "\n",
    "tokens.tail()"
   ]
  },
  {
   "cell_type": "code",
   "execution_count": 67,
   "metadata": {},
   "outputs": [
    {
     "data": {
      "text/html": [
       "<div>\n",
       "<style scoped>\n",
       "    .dataframe tbody tr th:only-of-type {\n",
       "        vertical-align: middle;\n",
       "    }\n",
       "\n",
       "    .dataframe tbody tr th {\n",
       "        vertical-align: top;\n",
       "    }\n",
       "\n",
       "    .dataframe thead th {\n",
       "        text-align: right;\n",
       "    }\n",
       "</style>\n",
       "<table border=\"1\" class=\"dataframe\">\n",
       "  <thead>\n",
       "    <tr style=\"text-align: right;\">\n",
       "      <th></th>\n",
       "      <th>digitalnomad</th>\n",
       "      <th>marriagefree</th>\n",
       "      <th>ratio</th>\n",
       "    </tr>\n",
       "    <tr>\n",
       "      <th>token</th>\n",
       "      <th></th>\n",
       "      <th></th>\n",
       "      <th></th>\n",
       "    </tr>\n",
       "  </thead>\n",
       "  <tbody>\n",
       "    <tr>\n",
       "      <th>remote</th>\n",
       "      <td>0.304230</td>\n",
       "      <td>0.006211</td>\n",
       "      <td>48.981020</td>\n",
       "    </tr>\n",
       "    <tr>\n",
       "      <th>dn</th>\n",
       "      <td>0.129610</td>\n",
       "      <td>0.003106</td>\n",
       "      <td>41.734273</td>\n",
       "    </tr>\n",
       "    <tr>\n",
       "      <th>remotely</th>\n",
       "      <td>0.110087</td>\n",
       "      <td>0.003106</td>\n",
       "      <td>35.447939</td>\n",
       "    </tr>\n",
       "    <tr>\n",
       "      <th>airbnb</th>\n",
       "      <td>0.098698</td>\n",
       "      <td>0.003106</td>\n",
       "      <td>31.780911</td>\n",
       "    </tr>\n",
       "    <tr>\n",
       "      <th>free</th>\n",
       "      <td>0.097614</td>\n",
       "      <td>0.003106</td>\n",
       "      <td>31.431670</td>\n",
       "    </tr>\n",
       "    <tr>\n",
       "      <th>client</th>\n",
       "      <td>0.092733</td>\n",
       "      <td>0.003106</td>\n",
       "      <td>29.860087</td>\n",
       "    </tr>\n",
       "    <tr>\n",
       "      <th>service</th>\n",
       "      <td>0.079718</td>\n",
       "      <td>0.003106</td>\n",
       "      <td>25.669197</td>\n",
       "    </tr>\n",
       "    <tr>\n",
       "      <th>product</th>\n",
       "      <td>0.067245</td>\n",
       "      <td>0.003106</td>\n",
       "      <td>21.652928</td>\n",
       "    </tr>\n",
       "    <tr>\n",
       "      <th>laptop</th>\n",
       "      <td>0.066161</td>\n",
       "      <td>0.003106</td>\n",
       "      <td>21.303688</td>\n",
       "    </tr>\n",
       "    <tr>\n",
       "      <th>europe</th>\n",
       "      <td>0.063449</td>\n",
       "      <td>0.003106</td>\n",
       "      <td>20.430586</td>\n",
       "    </tr>\n",
       "    <tr>\n",
       "      <th>company</th>\n",
       "      <td>0.183839</td>\n",
       "      <td>0.009317</td>\n",
       "      <td>19.732104</td>\n",
       "    </tr>\n",
       "    <tr>\n",
       "      <th>thailand</th>\n",
       "      <td>0.059653</td>\n",
       "      <td>0.003106</td>\n",
       "      <td>19.208243</td>\n",
       "    </tr>\n",
       "    <tr>\n",
       "      <th>tip</th>\n",
       "      <td>0.058568</td>\n",
       "      <td>0.003106</td>\n",
       "      <td>18.859002</td>\n",
       "    </tr>\n",
       "    <tr>\n",
       "      <th>marketing</th>\n",
       "      <td>0.056941</td>\n",
       "      <td>0.003106</td>\n",
       "      <td>18.335141</td>\n",
       "    </tr>\n",
       "    <tr>\n",
       "      <th>asia</th>\n",
       "      <td>0.055315</td>\n",
       "      <td>0.003106</td>\n",
       "      <td>17.811280</td>\n",
       "    </tr>\n",
       "    <tr>\n",
       "      <th>abroad</th>\n",
       "      <td>0.051518</td>\n",
       "      <td>0.003106</td>\n",
       "      <td>16.588937</td>\n",
       "    </tr>\n",
       "    <tr>\n",
       "      <th>traveling</th>\n",
       "      <td>0.102495</td>\n",
       "      <td>0.006211</td>\n",
       "      <td>16.501627</td>\n",
       "    </tr>\n",
       "    <tr>\n",
       "      <th>mai</th>\n",
       "      <td>0.049892</td>\n",
       "      <td>0.003106</td>\n",
       "      <td>16.065076</td>\n",
       "    </tr>\n",
       "    <tr>\n",
       "      <th>chiang</th>\n",
       "      <td>0.049892</td>\n",
       "      <td>0.003106</td>\n",
       "      <td>16.065076</td>\n",
       "    </tr>\n",
       "    <tr>\n",
       "      <th>visa</th>\n",
       "      <td>0.099783</td>\n",
       "      <td>0.006211</td>\n",
       "      <td>16.065076</td>\n",
       "    </tr>\n",
       "  </tbody>\n",
       "</table>\n",
       "</div>"
      ],
      "text/plain": [
       "           digitalnomad  marriagefree      ratio\n",
       "token                                           \n",
       "remote         0.304230      0.006211  48.981020\n",
       "dn             0.129610      0.003106  41.734273\n",
       "remotely       0.110087      0.003106  35.447939\n",
       "airbnb         0.098698      0.003106  31.780911\n",
       "free           0.097614      0.003106  31.431670\n",
       "client         0.092733      0.003106  29.860087\n",
       "service        0.079718      0.003106  25.669197\n",
       "product        0.067245      0.003106  21.652928\n",
       "laptop         0.066161      0.003106  21.303688\n",
       "europe         0.063449      0.003106  20.430586\n",
       "company        0.183839      0.009317  19.732104\n",
       "thailand       0.059653      0.003106  19.208243\n",
       "tip            0.058568      0.003106  18.859002\n",
       "marketing      0.056941      0.003106  18.335141\n",
       "asia           0.055315      0.003106  17.811280\n",
       "abroad         0.051518      0.003106  16.588937\n",
       "traveling      0.102495      0.006211  16.501627\n",
       "mai            0.049892      0.003106  16.065076\n",
       "chiang         0.049892      0.003106  16.065076\n",
       "visa           0.099783      0.006211  16.065076"
      ]
     },
     "execution_count": 67,
     "metadata": {},
     "output_type": "execute_result"
    }
   ],
   "source": [
    "# examine the DataFrame sorted by ratio\n",
    "sorted_tokens = tokens.sort_values('ratio', ascending=False)\n",
    "\n",
    "# View the top 20 tokens by ratio\n",
    "sorted_tokens.head(20)"
   ]
  },
  {
   "cell_type": "markdown",
   "metadata": {},
   "source": [
    "The tokens with the highest ratio are the ones which help to classify the posts into Subreddit 1 (digitalnomad). From above, we could tell that the model was classifying 'digitalnomad' posts using words relating to travel, countries, accomodations."
   ]
  },
  {
   "cell_type": "code",
   "execution_count": 68,
   "metadata": {},
   "outputs": [
    {
     "data": {
      "text/html": [
       "<div>\n",
       "<style scoped>\n",
       "    .dataframe tbody tr th:only-of-type {\n",
       "        vertical-align: middle;\n",
       "    }\n",
       "\n",
       "    .dataframe tbody tr th {\n",
       "        vertical-align: top;\n",
       "    }\n",
       "\n",
       "    .dataframe thead th {\n",
       "        text-align: right;\n",
       "    }\n",
       "</style>\n",
       "<table border=\"1\" class=\"dataframe\">\n",
       "  <thead>\n",
       "    <tr style=\"text-align: right;\">\n",
       "      <th></th>\n",
       "      <th>digitalnomad</th>\n",
       "      <th>marriagefree</th>\n",
       "      <th>ratio</th>\n",
       "    </tr>\n",
       "    <tr>\n",
       "      <th>token</th>\n",
       "      <th></th>\n",
       "      <th></th>\n",
       "      <th></th>\n",
       "    </tr>\n",
       "  </thead>\n",
       "  <tbody>\n",
       "    <tr>\n",
       "      <th>bingo</th>\n",
       "      <td>0.000542</td>\n",
       "      <td>0.021739</td>\n",
       "      <td>0.024946</td>\n",
       "    </tr>\n",
       "    <tr>\n",
       "      <th>marrying</th>\n",
       "      <td>0.001085</td>\n",
       "      <td>0.043478</td>\n",
       "      <td>0.024946</td>\n",
       "    </tr>\n",
       "    <tr>\n",
       "      <th>pressured</th>\n",
       "      <td>0.000542</td>\n",
       "      <td>0.021739</td>\n",
       "      <td>0.024946</td>\n",
       "    </tr>\n",
       "    <tr>\n",
       "      <th>cousin</th>\n",
       "      <td>0.001085</td>\n",
       "      <td>0.052795</td>\n",
       "      <td>0.020544</td>\n",
       "    </tr>\n",
       "    <tr>\n",
       "      <th>horror</th>\n",
       "      <td>0.000542</td>\n",
       "      <td>0.027950</td>\n",
       "      <td>0.019402</td>\n",
       "    </tr>\n",
       "    <tr>\n",
       "      <th>mf</th>\n",
       "      <td>0.000542</td>\n",
       "      <td>0.027950</td>\n",
       "      <td>0.019402</td>\n",
       "    </tr>\n",
       "    <tr>\n",
       "      <th>sexual</th>\n",
       "      <td>0.000542</td>\n",
       "      <td>0.027950</td>\n",
       "      <td>0.019402</td>\n",
       "    </tr>\n",
       "    <tr>\n",
       "      <th>celebrate</th>\n",
       "      <td>0.000542</td>\n",
       "      <td>0.027950</td>\n",
       "      <td>0.019402</td>\n",
       "    </tr>\n",
       "    <tr>\n",
       "      <th>argument</th>\n",
       "      <td>0.000542</td>\n",
       "      <td>0.031056</td>\n",
       "      <td>0.017462</td>\n",
       "    </tr>\n",
       "    <tr>\n",
       "      <th>union</th>\n",
       "      <td>0.001085</td>\n",
       "      <td>0.065217</td>\n",
       "      <td>0.016631</td>\n",
       "    </tr>\n",
       "    <tr>\n",
       "      <th>tradition</th>\n",
       "      <td>0.000542</td>\n",
       "      <td>0.034161</td>\n",
       "      <td>0.015875</td>\n",
       "    </tr>\n",
       "    <tr>\n",
       "      <th>unmarried</th>\n",
       "      <td>0.001085</td>\n",
       "      <td>0.090062</td>\n",
       "      <td>0.012043</td>\n",
       "    </tr>\n",
       "    <tr>\n",
       "      <th>bridesmaid</th>\n",
       "      <td>0.000542</td>\n",
       "      <td>0.046584</td>\n",
       "      <td>0.011641</td>\n",
       "    </tr>\n",
       "    <tr>\n",
       "      <th>ceremony</th>\n",
       "      <td>0.000542</td>\n",
       "      <td>0.059006</td>\n",
       "      <td>0.009191</td>\n",
       "    </tr>\n",
       "    <tr>\n",
       "      <th>bride</th>\n",
       "      <td>0.000542</td>\n",
       "      <td>0.062112</td>\n",
       "      <td>0.008731</td>\n",
       "    </tr>\n",
       "    <tr>\n",
       "      <th>divorced</th>\n",
       "      <td>0.000542</td>\n",
       "      <td>0.068323</td>\n",
       "      <td>0.007937</td>\n",
       "    </tr>\n",
       "    <tr>\n",
       "      <th>ring</th>\n",
       "      <td>0.000542</td>\n",
       "      <td>0.068323</td>\n",
       "      <td>0.007937</td>\n",
       "    </tr>\n",
       "    <tr>\n",
       "      <th>childfree</th>\n",
       "      <td>0.000542</td>\n",
       "      <td>0.086957</td>\n",
       "      <td>0.006236</td>\n",
       "    </tr>\n",
       "    <tr>\n",
       "      <th>divorce</th>\n",
       "      <td>0.001085</td>\n",
       "      <td>0.177019</td>\n",
       "      <td>0.006127</td>\n",
       "    </tr>\n",
       "    <tr>\n",
       "      <th>wedding</th>\n",
       "      <td>0.002169</td>\n",
       "      <td>0.409938</td>\n",
       "      <td>0.005292</td>\n",
       "    </tr>\n",
       "  </tbody>\n",
       "</table>\n",
       "</div>"
      ],
      "text/plain": [
       "            digitalnomad  marriagefree     ratio\n",
       "token                                           \n",
       "bingo           0.000542      0.021739  0.024946\n",
       "marrying        0.001085      0.043478  0.024946\n",
       "pressured       0.000542      0.021739  0.024946\n",
       "cousin          0.001085      0.052795  0.020544\n",
       "horror          0.000542      0.027950  0.019402\n",
       "mf              0.000542      0.027950  0.019402\n",
       "sexual          0.000542      0.027950  0.019402\n",
       "celebrate       0.000542      0.027950  0.019402\n",
       "argument        0.000542      0.031056  0.017462\n",
       "union           0.001085      0.065217  0.016631\n",
       "tradition       0.000542      0.034161  0.015875\n",
       "unmarried       0.001085      0.090062  0.012043\n",
       "bridesmaid      0.000542      0.046584  0.011641\n",
       "ceremony        0.000542      0.059006  0.009191\n",
       "bride           0.000542      0.062112  0.008731\n",
       "divorced        0.000542      0.068323  0.007937\n",
       "ring            0.000542      0.068323  0.007937\n",
       "childfree       0.000542      0.086957  0.006236\n",
       "divorce         0.001085      0.177019  0.006127\n",
       "wedding         0.002169      0.409938  0.005292"
      ]
     },
     "execution_count": 68,
     "metadata": {},
     "output_type": "execute_result"
    }
   ],
   "source": [
    "# View the bottom 20 tokens by ratio\n",
    "sorted_tokens.tail(20)"
   ]
  },
  {
   "cell_type": "markdown",
   "metadata": {},
   "source": [
    "The tokens with the lowest ratio are the ones which help to classify the posts into Subreddit 2 (marriagefree). From above, we could tell that the model was classifying 'marriagefree' posts using words relating to relationships, family, and disharmony."
   ]
  },
  {
   "cell_type": "markdown",
   "metadata": {},
   "source": [
    "### Misclassified Posts  \n",
    "\n",
    "We want to understand which are the posts which are misclassified."
   ]
  },
  {
   "cell_type": "code",
   "execution_count": 69,
   "metadata": {
    "scrolled": true
   },
   "outputs": [
    {
     "data": {
      "image/png": "[encoded data removed]",
      "text/plain": [
       "<Figure size 432x288 with 2 Axes>"
      ]
     },
     "metadata": {
      "needs_background": "light"
     },
     "output_type": "display_data"
    }
   ],
   "source": [
    "# Taking a look at the confusion matrix again\n",
    "plot_confusion_matrix(best_model, X_test, y_test, cmap='Reds', values_format='d')\n",
    "plt.title('Naive Bayes');"
   ]
  },
  {
   "cell_type": "code",
   "execution_count": 70,
   "metadata": {},
   "outputs": [],
   "source": [
    "# Assign variables\n",
    "y_pred = best_model.predict(X_test)\n",
    "tn, fp, fn, tp = confusion_matrix(y_test, y_pred).ravel()"
   ]
  },
  {
   "cell_type": "code",
   "execution_count": 71,
   "metadata": {},
   "outputs": [
    {
     "name": "stdout",
     "output_type": "stream",
     "text": [
      "Out of 723 test values, 22 are predicted incorrectly.\n",
      "Of which, there are 6 False Positives and 16 False Negatives.\n"
     ]
    }
   ],
   "source": [
    "print(f'Out of {y_test.shape[0]} test values, {(fp + fn)} are predicted incorrectly.')\n",
    "print(f'Of which, there are {fp} False Positives and {fn} False Negatives.')"
   ]
  },
  {
   "cell_type": "code",
   "execution_count": 72,
   "metadata": {},
   "outputs": [
    {
     "data": {
      "text/html": [
       "<div>\n",
       "<style scoped>\n",
       "    .dataframe tbody tr th:only-of-type {\n",
       "        vertical-align: middle;\n",
       "    }\n",
       "\n",
       "    .dataframe tbody tr th {\n",
       "        vertical-align: top;\n",
       "    }\n",
       "\n",
       "    .dataframe thead th {\n",
       "        text-align: right;\n",
       "    }\n",
       "</style>\n",
       "<table border=\"1\" class=\"dataframe\">\n",
       "  <thead>\n",
       "    <tr style=\"text-align: right;\">\n",
       "      <th></th>\n",
       "      <th>true_values</th>\n",
       "      <th>predictions</th>\n",
       "    </tr>\n",
       "  </thead>\n",
       "  <tbody>\n",
       "    <tr>\n",
       "      <th>587</th>\n",
       "      <td>0</td>\n",
       "      <td>0</td>\n",
       "    </tr>\n",
       "    <tr>\n",
       "      <th>1155</th>\n",
       "      <td>0</td>\n",
       "      <td>0</td>\n",
       "    </tr>\n",
       "    <tr>\n",
       "      <th>371</th>\n",
       "      <td>0</td>\n",
       "      <td>0</td>\n",
       "    </tr>\n",
       "    <tr>\n",
       "      <th>136</th>\n",
       "      <td>0</td>\n",
       "      <td>0</td>\n",
       "    </tr>\n",
       "    <tr>\n",
       "      <th>1896</th>\n",
       "      <td>0</td>\n",
       "      <td>0</td>\n",
       "    </tr>\n",
       "  </tbody>\n",
       "</table>\n",
       "</div>"
      ],
      "text/plain": [
       "      true_values  predictions\n",
       "587             0            0\n",
       "1155            0            0\n",
       "371             0            0\n",
       "136             0            0\n",
       "1896            0            0"
      ]
     },
     "execution_count": 72,
     "metadata": {},
     "output_type": "execute_result"
    }
   ],
   "source": [
    "# Put the true values and predicted values into dataframe\n",
    "pred_df = y_test.to_frame()\n",
    "pred_df['predictions'] = y_pred\n",
    "pred_df.rename(columns={'origin_marriagefree': 'true_values'}, inplace=True)\n",
    "pred_df.head()"
   ]
  },
  {
   "cell_type": "code",
   "execution_count": 73,
   "metadata": {},
   "outputs": [],
   "source": [
    "# Create function that shows the misclassified posts\n",
    "# also prints predicted and true values\n",
    "def print_misclassified(nonvec_X_test, predictions_df, class_names):\n",
    "    # Extract the indices for the posts that were misclassified\n",
    "    miscl_idx = pred_df[pred_df['true_values'] != pred_df['predictions']].index\n",
    "    \n",
    "    print(f'There are a total of {len(miscl_idx)} misclassified posts.\\n\\n')\n",
    "    \n",
    "    for i in miscl_idx:\n",
    "        name_1 = class_names[int(predictions_df.loc[i, 'true_values'])]\n",
    "        classtype_1 = predictions_df.loc[i, 'true_values']\n",
    "        name_2 = class_names[int(predictions_df.loc[i, 'predictions'])]\n",
    "        classtype_2 = predictions_df.loc[i, 'predictions']\n",
    "        print(f'Post no. {i}:')\n",
    "        print(f\"This is a {name_1}(Class {classtype_1}) post, misclassified as a {name_2}(Class {classtype_2}) post\\n\")\n",
    "        print(nonvec_X_test[i])\n",
    "        print('--------------------------------------------------------------------------')"
   ]
  },
  {
   "cell_type": "code",
   "execution_count": 74,
   "metadata": {
    "scrolled": true
   },
   "outputs": [
    {
     "name": "stdout",
     "output_type": "stream",
     "text": [
      "There are a total of 22 misclassified posts.\n",
      "\n",
      "\n",
      "Post no. 239:\n",
      "This is a digitalnomad(Class 0) post, misclassified as a marriagefree(Class 1) post\n",
      "\n",
      "minimalist parent christmas kid first currently island amazon delivery idea gift decoration tradition idea would appreciated thanks\n",
      "--------------------------------------------------------------------------\n",
      "Post no. 2739:\n",
      "This is a marriagefree(Class 1) post, misclassified as a digitalnomad(Class 0) post\n",
      "\n",
      "craigslist confessional exactly minute day mine\n",
      "--------------------------------------------------------------------------\n",
      "Post no. 2887:\n",
      "This is a marriagefree(Class 1) post, misclassified as a digitalnomad(Class 0) post\n",
      "\n",
      "love emma goldman\n",
      "--------------------------------------------------------------------------\n",
      "Post no. 2888:\n",
      "This is a marriagefree(Class 1) post, misclassified as a digitalnomad(Class 0) post\n",
      "\n",
      "fleeing forced\n",
      "--------------------------------------------------------------------------\n",
      "Post no. 2614:\n",
      "This is a marriagefree(Class 1) post, misclassified as a digitalnomad(Class 0) post\n",
      "\n",
      "monogamy explained\n",
      "--------------------------------------------------------------------------\n",
      "Post no. 2777:\n",
      "This is a marriagefree(Class 1) post, misclassified as a digitalnomad(Class 0) post\n",
      "\n",
      "one favorite depressing song kacey musgraves merry go round american dream enjoy\n",
      "--------------------------------------------------------------------------\n",
      "Post no. 2707:\n",
      "This is a marriagefree(Class 1) post, misclassified as a digitalnomad(Class 0) post\n",
      "\n",
      "anybody know forum looked around couldnt find guy know\n",
      "--------------------------------------------------------------------------\n",
      "Post no. 2772:\n",
      "This is a marriagefree(Class 1) post, misclassified as a digitalnomad(Class 0) post\n",
      "\n",
      "comedian reginald hunter awesome\n",
      "--------------------------------------------------------------------------\n",
      "Post no. 1495:\n",
      "This is a digitalnomad(Class 0) post, misclassified as a marriagefree(Class 1) post\n",
      "\n",
      "also feel good check new place kinda silly move new place feel better even place worse one feel way\n",
      "--------------------------------------------------------------------------\n",
      "Post no. 486:\n",
      "This is a digitalnomad(Class 0) post, misclassified as a marriagefree(Class 1) post\n",
      "\n",
      "lonely white male\n",
      "--------------------------------------------------------------------------\n",
      "Post no. 2761:\n",
      "This is a marriagefree(Class 1) post, misclassified as a digitalnomad(Class 0) post\n",
      "\n",
      "poverty political divide\n",
      "--------------------------------------------------------------------------\n",
      "Post no. 2464:\n",
      "This is a marriagefree(Class 1) post, misclassified as a digitalnomad(Class 0) post\n",
      "\n",
      "oscar wilde quote\n",
      "--------------------------------------------------------------------------\n",
      "Post no. 2666:\n",
      "This is a marriagefree(Class 1) post, misclassified as a digitalnomad(Class 0) post\n",
      "\n",
      "benefit people ltr think know benefit everyone talk tax insurance probably stuff thinking mostly insurance mean seems like insurance cost twice much insurance guess discount dunno much also like people buying bulk job maybe mine something something obamacare able buy affordable insurance looked tax thing bit seems like getting put higher tax bracket like make think bracket limit hand knew people disability would get much le money able afford live got\n",
      "--------------------------------------------------------------------------\n",
      "Post no. 2770:\n",
      "This is a marriagefree(Class 1) post, misclassified as a digitalnomad(Class 0) post\n",
      "\n",
      "cracked nail expensive sham\n",
      "--------------------------------------------------------------------------\n",
      "Post no. 2825:\n",
      "This is a marriagefree(Class 1) post, misclassified as a digitalnomad(Class 0) post\n",
      "\n",
      "leave\n",
      "--------------------------------------------------------------------------\n",
      "Post no. 2805:\n",
      "This is a marriagefree(Class 1) post, misclassified as a digitalnomad(Class 0) post\n",
      "\n",
      "hometown affect change article map\n",
      "--------------------------------------------------------------------------\n",
      "Post no. 819:\n",
      "This is a digitalnomad(Class 0) post, misclassified as a marriagefree(Class 1) post\n",
      "\n",
      "young child wife long interested dn lifestyle never worked mid two young kid amp year old mortgage etc still drawn anyone young kid tow start handle day day life daycare schooling transportation etc frequently move handle letting go parenting lifestyle stability family parent close needed etc could somehow pull likely stick one place many month time maybe country year year love hear personal story would appreciate link pertinent blog podcasts well\n",
      "--------------------------------------------------------------------------\n",
      "Post no. 2741:\n",
      "This is a marriagefree(Class 1) post, misclassified as a digitalnomad(Class 0) post\n",
      "\n",
      "like depressing fact\n",
      "--------------------------------------------------------------------------\n",
      "Post no. 2631:\n",
      "This is a marriagefree(Class 1) post, misclassified as a digitalnomad(Class 0) post\n",
      "\n",
      "x post r finacialindependence\n",
      "--------------------------------------------------------------------------\n",
      "Post no. 477:\n",
      "This is a digitalnomad(Class 0) post, misclassified as a marriagefree(Class 1) post\n",
      "\n",
      "new group queer woman wanted share new facebook group specifically queer woman figure got u hiding let connect feel free join u lot planned group http www facebook com group\n",
      "--------------------------------------------------------------------------\n",
      "Post no. 2032:\n",
      "This is a digitalnomad(Class 0) post, misclassified as a marriagefree(Class 1) post\n",
      "\n",
      "get away moving one place another feel like book every person want start lifestyle expecting problem go away snap finger edit itt people think quote refers moving away loud city mountain\n",
      "--------------------------------------------------------------------------\n",
      "Post no. 2511:\n",
      "This is a marriagefree(Class 1) post, misclassified as a digitalnomad(Class 0) post\n",
      "\n",
      "aita post regarding couple pushy grandma\n",
      "--------------------------------------------------------------------------\n"
     ]
    }
   ],
   "source": [
    "# Print out misclassified posts\n",
    "print_misclassified(X_test, pred_df, ['digitalnomad', 'marriagefree'])"
   ]
  },
  {
   "cell_type": "markdown",
   "metadata": {},
   "source": [
    "**Observations:**  \n",
    "In general, the posts that are misclassified into subreddit 2 (marriagefree) have elements or words relating to family or females (such as 'woman', 'kid', 'child'), and the posts that are misclassified into subreddit 1 (digitalnomad) have elements or words that are more related to finance (such as 'insurance', 'money', 'tax'). It seems like people in the 'digitalnomad' community are more frequently discussing about their financial stability more so than about their families because of their lifestyles.\n",
    "\n",
    "Posts misclassified under the 'digitalnomad' community tend to have less words as seen above, and most of which seem almost random. Interestingly, there are several occurrences of words like 'depressing' which comes across as a negative emotional feeling more likely to be classified under the 'marriagefree' community as with what the model did. This may suggest that people within the 'digitalnomad' community may also have discussions about the negative emotions which they have while leading their nomadic lifestyles."
   ]
  },
  {
   "cell_type": "markdown",
   "metadata": {},
   "source": [
    "## Conclusions"
   ]
  },
  {
   "cell_type": "markdown",
   "metadata": {},
   "source": [
    "Through this project, we gained many useful insights about the discussions among people within the 'digitalnomad' and 'marriagefree' subreddits. Using the lemmatized textual data scraped from Reddit's API, we were able to develop a Multinomial Naive Bayes model with tuned hyperparameters to classify the users' posts into the two subreddits. In the process of constructing the model, we learnt that digital nomads and single/unmarried people talk about very different things. This may mean that freedom in digital nomadism and love are mutually exclusive and companies looking to recruit digital nomads should not be too worried about the mental instability caused by the loss of a relationship or the lack thereof. Despite that, this project is limited to analyzing data collected from two subreddit communities and it may not be sufficient to make such a bold claim.\n",
    "\n",
    "The classification model which we developed had a high accuracy score of 0.98, performing much better than the baseline score of 0.85. The model classified data into 'digitalnomad' posts using words relating to travel, countries, and accomodation and classified data into 'marriagefree' posts using words relating to relationships, family, and disharmony. 3% of the test values are predicted incorrectly, which comprises of 6 False Positives and 16 False Negatives (posts originating from the 'marriagefree' subreddit considered as positive class). Posts misclassified under the 'digitalnomad' subreddit have words relating to finance while posts misclassified under the 'marriagefree' subreddit have words relating to family or females.\n",
    "\n",
    "Further studies could be done if we were to analyze more discussions from other social media platforms such as Twitter, Facebook, Youtube, on digital nomadism. From these discussions we could continue to discover other traits and characteristics about people who decided to live the nomadic lifestyle. It is also possible to develop a survey targeted at digital nomads to obtain more information about their demographics. With deeper understanding, we would be able to provide better professional advice to organizations looking to employ digital nomads, and boosting reputation as a recruitment agency."
   ]
  }
 ],
 "metadata": {
  "kernelspec": {
   "display_name": "Python 3",
   "language": "python",
   "name": "python3"
  },
  "language_info": {
   "codemirror_mode": {
    "name": "ipython",
    "version": 3
   },
   "file_extension": ".py",
   "mimetype": "text/x-python",
   "name": "python",
   "nbconvert_exporter": "python",
   "pygments_lexer": "ipython3",
   "version": "3.8.3"
  }
 },
 "nbformat": 4,
 "nbformat_minor": 4
}
